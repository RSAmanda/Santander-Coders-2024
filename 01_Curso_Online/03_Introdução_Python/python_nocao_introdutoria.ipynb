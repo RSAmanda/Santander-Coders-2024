{
 "cells": [
  {
   "cell_type": "markdown",
   "metadata": {},
   "source": [
    "# Python:Noções Introdutorias"
   ]
  },
  {
   "cell_type": "markdown",
   "metadata": {},
   "source": [
    "## Entrada e Saída de dados"
   ]
  },
  {
   "cell_type": "code",
   "execution_count": 2,
   "metadata": {},
   "outputs": [
    {
     "name": "stdout",
     "output_type": "stream",
     "text": [
      "texto\n"
     ]
    }
   ],
   "source": [
    "# saída de dados\n",
    "print(\"texto\")"
   ]
  },
  {
   "cell_type": "code",
   "execution_count": 3,
   "metadata": {},
   "outputs": [
    {
     "data": {
      "text/plain": [
       "'1'"
      ]
     },
     "execution_count": 3,
     "metadata": {},
     "output_type": "execute_result"
    }
   ],
   "source": [
    "# entrada de dados\n",
    "input(\"informe um valor\")"
   ]
  },
  {
   "cell_type": "markdown",
   "metadata": {},
   "source": [
    "## Variáveis"
   ]
  },
  {
   "cell_type": "markdown",
   "metadata": {},
   "source": [
    "``int`` Número inteiro\n",
    "\n",
    "`float` número real\n",
    "\n",
    "`str` cadeia de caracteres\n",
    "\n",
    "`bool` Boleano: `True`ou `False`"
   ]
  },
  {
   "cell_type": "markdown",
   "metadata": {},
   "source": [
    "## Operadores Aritméticos e Booleanos"
   ]
  },
  {
   "cell_type": "markdown",
   "metadata": {},
   "source": [
    "Soma `+` (também utilizado para concatenação de strings)\n",
    "\n",
    "Subtração `-`\n",
    "\n",
    "Multiplicação `*`\n",
    "\n",
    "Divisão `/`\n",
    "\n",
    "Divisão Inteira `//`\n",
    "\n",
    "Resto da Divisão `%`\n",
    "\n",
    "Potência: `**`\n"
   ]
  },
  {
   "cell_type": "markdown",
   "metadata": {},
   "source": [
    "maior que ``<``\n",
    "\n",
    "maior ou igual ``>=``\n",
    "\n",
    "menor que ``<``\n",
    "\n",
    "menor ou igual ``<=``\n",
    "\n",
    "igual ``==``\n",
    "\n",
    "diferente ``!=``"
   ]
  },
  {
   "cell_type": "markdown",
   "metadata": {},
   "source": [
    "## Conversões de tipos"
   ]
  },
  {
   "cell_type": "markdown",
   "metadata": {},
   "source": [
    "`int()` Converte para inteiro\n",
    "\n",
    "`float()` Converte para número real\n",
    "\n",
    "`str()` Converte para cadeia de caracteres\n",
    "\n",
    "`bool()` Converte para booleano"
   ]
  },
  {
   "cell_type": "markdown",
   "metadata": {},
   "source": [
    "## Estruturas condicionais"
   ]
  },
  {
   "cell_type": "code",
   "execution_count": 4,
   "metadata": {},
   "outputs": [
    {
     "name": "stdout",
     "output_type": "stream",
     "text": [
      "Maior de idade\n"
     ]
    }
   ],
   "source": [
    "idade = 20\n",
    "if idade >= 18:\n",
    "    print(\"Maior de idade\")\n",
    "else:\n",
    "    print(\"Menor de idade\")"
   ]
  },
  {
   "cell_type": "markdown",
   "metadata": {},
   "source": [
    "## Laços de repetição"
   ]
  },
  {
   "cell_type": "markdown",
   "metadata": {},
   "source": [
    "### While"
   ]
  },
  {
   "cell_type": "code",
   "execution_count": 6,
   "metadata": {},
   "outputs": [
    {
     "name": "stdout",
     "output_type": "stream",
     "text": [
      "errou\n",
      "errou\n",
      "acertou\n"
     ]
    }
   ],
   "source": [
    "numero_sorteado = 13\n",
    "\n",
    "numero_escolhido = int(input(\"Escolha um número: \"))\n",
    "\n",
    "while numero_escolhido != numero_sorteado:\n",
    "    print('errou')\n",
    "    numero_escolhido = int(input(\"Escolha um número: \"))\n",
    "\n",
    "print('acertou')\n"
   ]
  },
  {
   "cell_type": "markdown",
   "metadata": {},
   "source": [
    "### For"
   ]
  },
  {
   "cell_type": "code",
   "execution_count": 10,
   "metadata": {},
   "outputs": [
    {
     "name": "stdout",
     "output_type": "stream",
     "text": [
      "10\n",
      "12\n",
      "14\n",
      "16\n",
      "18\n",
      "20\n",
      "22\n",
      "24\n",
      "26\n",
      "28\n"
     ]
    }
   ],
   "source": [
    "for variavel in range(10,30,2): #range(inicio, fim, passo)\n",
    "    print(variavel)"
   ]
  },
  {
   "cell_type": "markdown",
   "metadata": {},
   "source": [
    "## Estrutura de Listas"
   ]
  },
  {
   "cell_type": "code",
   "execution_count": 19,
   "metadata": {},
   "outputs": [
    {
     "name": "stdout",
     "output_type": "stream",
     "text": [
      "[9, 1.7, '5', True, [1, 3, 6]]\n",
      "[]\n"
     ]
    }
   ],
   "source": [
    "lista = [9, 1.7, '5', True,[1,3,6]]\n",
    "print(lista)\n",
    "#lista vazias\n",
    "lista_vazia = list()\n",
    "lista_vazia = []\n",
    "print(lista_vazia)"
   ]
  },
  {
   "cell_type": "code",
   "execution_count": 21,
   "metadata": {},
   "outputs": [
    {
     "name": "stdout",
     "output_type": "stream",
     "text": [
      "9\n",
      "1.7\n",
      "5\n",
      "True\n",
      "[1, 3, 6]\n"
     ]
    }
   ],
   "source": [
    "for i in lista:\n",
    "    print(i)"
   ]
  },
  {
   "cell_type": "code",
   "execution_count": 25,
   "metadata": {},
   "outputs": [
    {
     "name": "stdout",
     "output_type": "stream",
     "text": [
      "5\n",
      "0\n"
     ]
    }
   ],
   "source": [
    "print(len(lista))\n",
    "print(len(lista_vazia))"
   ]
  },
  {
   "cell_type": "markdown",
   "metadata": {},
   "source": [
    "## Métodos e Funções de listas"
   ]
  },
  {
   "cell_type": "markdown",
   "metadata": {},
   "source": [
    "### Métodos"
   ]
  },
  {
   "cell_type": "markdown",
   "metadata": {},
   "source": [
    "``lista.append(valor)`` Insere no final da lista\n",
    "\n",
    "``lista.insert(posicao, valor)`` Insere na posição\n",
    "\n",
    "``lista.extend(lista2)`` Insere os elementos da lista2 no final da lista\n",
    "\n",
    "``lista.pop()`` Remove o último elemento\n",
    "\n",
    "``lista.pop(indice)`` Remove o elemento na posição indice\n",
    "\n",
    "``lista.remove(valor)`` Remove a primeira aparição valor\n",
    "\n",
    "``lista.count(valor)`` A quantidade de ocorrência do valor\n",
    "\n",
    "``lista.index(valor)`` O índice do valor\n",
    "\n",
    "``lista.sort()`` Ordena em ordem crescente\n",
    "\n",
    "``lista.sort(reverse=True)`` Ordena em ordem decrescente\n",
    "\n",
    "\n"
   ]
  },
  {
   "cell_type": "markdown",
   "metadata": {},
   "source": [
    "### Funções"
   ]
  },
  {
   "cell_type": "markdown",
   "metadata": {},
   "source": [
    "``len(lista)`` quantidade de elementos\n",
    "\n",
    "``sum(lista)`` Soma dos elementos\n",
    "\n",
    "``max(lista)`` elemento de maior valor\n",
    "\n",
    "``min(lista)`` elemento de menor valor\n",
    "\n"
   ]
  },
  {
   "cell_type": "markdown",
   "metadata": {},
   "source": [
    "## Funções"
   ]
  },
  {
   "cell_type": "code",
   "execution_count": 39,
   "metadata": {},
   "outputs": [],
   "source": [
    "def função(fulano= 'anônimo'):\n",
    "    print(f'isso é uma função, {fulano}.')\n",
    "    return True"
   ]
  },
  {
   "cell_type": "code",
   "execution_count": 37,
   "metadata": {},
   "outputs": [
    {
     "name": "stdout",
     "output_type": "stream",
     "text": [
      "isso é uma função, ana.\n"
     ]
    }
   ],
   "source": [
    "função('ana')"
   ]
  },
  {
   "cell_type": "code",
   "execution_count": 38,
   "metadata": {},
   "outputs": [
    {
     "name": "stdout",
     "output_type": "stream",
     "text": [
      "isso é uma função, anônimo.\n"
     ]
    }
   ],
   "source": [
    "função()"
   ]
  },
  {
   "cell_type": "code",
   "execution_count": 40,
   "metadata": {},
   "outputs": [
    {
     "name": "stdout",
     "output_type": "stream",
     "text": [
      "isso é uma função, anônimo.\n",
      "True\n"
     ]
    }
   ],
   "source": [
    "print(função())"
   ]
  },
  {
   "cell_type": "code",
   "execution_count": 42,
   "metadata": {},
   "outputs": [
    {
     "name": "stdout",
     "output_type": "stream",
     "text": [
      "isso é uma função, anônimo.\n"
     ]
    }
   ],
   "source": [
    "retorno = função()"
   ]
  },
  {
   "cell_type": "code",
   "execution_count": 43,
   "metadata": {},
   "outputs": [
    {
     "name": "stdout",
     "output_type": "stream",
     "text": [
      "True\n"
     ]
    }
   ],
   "source": [
    "print(retorno)"
   ]
  },
  {
   "cell_type": "markdown",
   "metadata": {},
   "source": [
    "## Dicionários"
   ]
  },
  {
   "cell_type": "code",
   "execution_count": 44,
   "metadata": {},
   "outputs": [],
   "source": [
    "# dicionario vazio\n",
    "dicionario_vazio = dict()\n",
    "dicionario_vazio = {}"
   ]
  },
  {
   "cell_type": "code",
   "execution_count": 46,
   "metadata": {},
   "outputs": [],
   "source": [
    "dicionario = {'nome': 'Ana', 'idade': 20, 'altura': 1.6}"
   ]
  },
  {
   "cell_type": "code",
   "execution_count": 47,
   "metadata": {},
   "outputs": [
    {
     "name": "stdout",
     "output_type": "stream",
     "text": [
      "{'nome': 'Ana', 'idade': 20, 'altura': 1.6}\n"
     ]
    }
   ],
   "source": [
    "print(dicionario)"
   ]
  },
  {
   "cell_type": "code",
   "execution_count": 50,
   "metadata": {},
   "outputs": [
    {
     "name": "stdout",
     "output_type": "stream",
     "text": [
      "20\n"
     ]
    }
   ],
   "source": [
    "print(dicionario['idade'])"
   ]
  },
  {
   "cell_type": "code",
   "execution_count": 51,
   "metadata": {},
   "outputs": [],
   "source": [
    "dicionario['programador'] = True"
   ]
  },
  {
   "cell_type": "code",
   "execution_count": 52,
   "metadata": {},
   "outputs": [
    {
     "name": "stdout",
     "output_type": "stream",
     "text": [
      "{'nome': 'Ana', 'idade': 20, 'altura': 1.6, 'programador': True}\n"
     ]
    }
   ],
   "source": [
    "print(dicionario)"
   ]
  },
  {
   "cell_type": "code",
   "execution_count": 53,
   "metadata": {},
   "outputs": [],
   "source": [
    "dicionario['programador'] = False"
   ]
  },
  {
   "cell_type": "code",
   "execution_count": 54,
   "metadata": {},
   "outputs": [
    {
     "name": "stdout",
     "output_type": "stream",
     "text": [
      "{'nome': 'Ana', 'idade': 20, 'altura': 1.6, 'programador': False}\n"
     ]
    }
   ],
   "source": [
    "print(dicionario)"
   ]
  },
  {
   "cell_type": "code",
   "execution_count": 56,
   "metadata": {},
   "outputs": [
    {
     "name": "stdout",
     "output_type": "stream",
     "text": [
      "nome Ana\n",
      "idade 20\n",
      "altura 1.6\n",
      "programador False\n"
     ]
    }
   ],
   "source": [
    "for variavel in dicionario:\n",
    "    print(variavel,dicionario[variavel] )"
   ]
  },
  {
   "cell_type": "code",
   "execution_count": 57,
   "metadata": {},
   "outputs": [
    {
     "data": {
      "text/plain": [
       "False"
      ]
     },
     "execution_count": 57,
     "metadata": {},
     "output_type": "execute_result"
    }
   ],
   "source": [
    "'peso' in dicionario"
   ]
  },
  {
   "cell_type": "code",
   "execution_count": 58,
   "metadata": {},
   "outputs": [
    {
     "data": {
      "text/plain": [
       "True"
      ]
     },
     "execution_count": 58,
     "metadata": {},
     "output_type": "execute_result"
    }
   ],
   "source": [
    "'altura' in dicionario"
   ]
  }
 ],
 "metadata": {
  "kernelspec": {
   "display_name": "Python 3",
   "language": "python",
   "name": "python3"
  },
  "language_info": {
   "codemirror_mode": {
    "name": "ipython",
    "version": 3
   },
   "file_extension": ".py",
   "mimetype": "text/x-python",
   "name": "python",
   "nbconvert_exporter": "python",
   "pygments_lexer": "ipython3",
   "version": "3.11.9"
  }
 },
 "nbformat": 4,
 "nbformat_minor": 2
}
