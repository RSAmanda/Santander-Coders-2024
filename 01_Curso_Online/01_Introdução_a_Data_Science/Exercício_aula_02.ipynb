{
 "cells": [
  {
   "cell_type": "markdown",
   "metadata": {},
   "source": [
    "## Faça um programa que o usuário informe a nota de 10 alunos, tranforme num array do numpy e faça operações para a exploração da biblioteca numpy"
   ]
  },
  {
   "cell_type": "code",
   "execution_count": 1,
   "metadata": {},
   "outputs": [],
   "source": [
    "import numpy as np"
   ]
  },
  {
   "cell_type": "code",
   "execution_count": 2,
   "metadata": {},
   "outputs": [],
   "source": [
    "# Solicita ao usuário as notas dos 10 alunos\n",
    "notas_alunos = []\n",
    "for i in range(10):\n",
    "    nota = float(input(f\"Informe a nota do aluno {i+1}: \"))\n",
    "    notas_alunos.append(nota)\n",
    "\n",
    "# Converte a lista de notas em um array do NumPy\n",
    "notas_array = np.array(notas_alunos)"
   ]
  },
  {
   "cell_type": "code",
   "execution_count": 6,
   "metadata": {},
   "outputs": [
    {
     "name": "stdout",
     "output_type": "stream",
     "text": [
      "\n",
      "Operações de exploração do NumPy:\n",
      "\n",
      "Notas dos alunos:             [1.  2.6 9.9 5.  4.9 6.8 3.  8.7 6.9 7.2]\n",
      "Média das notas:              5.60\n",
      "Maior nota:                   9.9\n",
      "Menor nota:                   1.0\n",
      "Desvio padrão das notas:      2.68\n",
      "Soma das notas:               56.0\n",
      "Notas ordenadas:              [1.  2.6 3.  4.9 5.  6.8 6.9 7.2 8.7 9.9]\n",
      "Índices das notas ordenadas:  [0 1 6 4 3 5 8 9 7 2]\n"
     ]
    }
   ],
   "source": [
    "# Operações para explorar a biblioteca NumPy\n",
    "print(f'\\nOperações de exploração do NumPy:\\n')\n",
    "print(f'Notas dos alunos:             {notas_array}')\n",
    "print(f'Média das notas:              {np.mean(notas_array):.2f}')\n",
    "print(f'Maior nota:                   {np.max(notas_array)}')\n",
    "print(f'Menor nota:                   {np.min(notas_array)}')\n",
    "print(f'Desvio padrão das notas:      {np.std(notas_array):.2f}')\n",
    "print(f'Soma das notas:               {np.sum(notas_array)}')\n",
    "print(f'Notas ordenadas:              {np.sort(notas_array)}')\n",
    "print(f'Índices das notas ordenadas:  {np.argsort(notas_array)}')"
   ]
  }
 ],
 "metadata": {
  "kernelspec": {
   "display_name": "Python 3",
   "language": "python",
   "name": "python3"
  },
  "language_info": {
   "codemirror_mode": {
    "name": "ipython",
    "version": 3
   },
   "file_extension": ".py",
   "mimetype": "text/x-python",
   "name": "python",
   "nbconvert_exporter": "python",
   "pygments_lexer": "ipython3",
   "version": "3.11.9"
  }
 },
 "nbformat": 4,
 "nbformat_minor": 2
}
